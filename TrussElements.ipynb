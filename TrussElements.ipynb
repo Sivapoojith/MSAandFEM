{
 "cells": [
  {
   "cell_type": "code",
   "execution_count": 9,
   "metadata": {},
   "outputs": [],
   "source": [
    "import numpy as np"
   ]
  },
  {
   "cell_type": "code",
   "execution_count": 20,
   "metadata": {},
   "outputs": [],
   "source": [
    "def Ke_truss(xe, prop):\n",
    "    ''' Generate the truss element stiffness matrix.\n",
    "    Inputs\n",
    "    ------\n",
    "    \n",
    "    xe: list of component-lengths for truss element. For example, a 5m member inclined at 32.9 deg will have\n",
    "    xe elements of 4m and 3m. The same member inclined at zero degrees will have 5m and 0m.\n",
    "    prop: list of properties [Young's modulus, cross-sectional area]\n",
    "    '''\n",
    "    L = np.linalg.norm(xe)\n",
    "    nx = xe / L\n",
    "    T = np.zeros((2, 4), dtype=np.float32)\n",
    "    T[0, :2] = nx\n",
    "    T[1, 2:] = nx\n",
    "    E, A = prop[0], prop[1]\n",
    "    \n",
    "    # Local stiffness matrix\n",
    "    k = np.array([[1., -1.], [1., -1.]])\n",
    "    k *= E*A/L\n",
    "    \n",
    "    # Global element stiffness matrix\n",
    "    Ke = T.T @ k @ T\n",
    "    \n",
    "    return Ke"
   ]
  },
  {
   "cell_type": "code",
   "execution_count": 21,
   "metadata": {},
   "outputs": [],
   "source": [
    "nx = np.array([4000., 3000.])\n",
    "prop = [200000., 100.]"
   ]
  },
  {
   "cell_type": "code",
   "execution_count": 22,
   "metadata": {},
   "outputs": [
    {
     "data": {
      "text/plain": [
       "array([[ 2560.00007629,  1920.0001049 , -2560.00007629, -1920.0001049 ],\n",
       "       [ 1920.0001049 ,  1440.00011444, -1920.0001049 , -1440.00011444],\n",
       "       [ 2560.00007629,  1920.0001049 , -2560.00007629, -1920.0001049 ],\n",
       "       [ 1920.0001049 ,  1440.00011444, -1920.0001049 , -1440.00011444]])"
      ]
     },
     "execution_count": 22,
     "metadata": {},
     "output_type": "execute_result"
    }
   ],
   "source": [
    "Ke_truss(nx, prop)"
   ]
  },
  {
   "cell_type": "code",
   "execution_count": 23,
   "metadata": {},
   "outputs": [],
   "source": [
    "nx = np.array([4000., 0.])\n",
    "prop = [200000., 100.]"
   ]
  },
  {
   "cell_type": "code",
   "execution_count": 24,
   "metadata": {},
   "outputs": [
    {
     "data": {
      "text/plain": [
       "array([[ 5000.,     0., -5000.,     0.],\n",
       "       [    0.,     0.,     0.,     0.],\n",
       "       [ 5000.,     0., -5000.,     0.],\n",
       "       [    0.,     0.,     0.,     0.]])"
      ]
     },
     "execution_count": 24,
     "metadata": {},
     "output_type": "execute_result"
    }
   ],
   "source": [
    "Ke_truss(nx, prop)"
   ]
  },
  {
   "cell_type": "markdown",
   "metadata": {},
   "source": [
    "This truss element function works as intended, but it should be rolled into a global stiffness equation formulation to prevent hard-coding solutions."
   ]
  },
  {
   "cell_type": "code",
   "execution_count": null,
   "metadata": {},
   "outputs": [],
   "source": []
  }
 ],
 "metadata": {
  "kernelspec": {
   "display_name": "MSA",
   "language": "python",
   "name": "msa"
  },
  "language_info": {
   "codemirror_mode": {
    "name": "ipython",
    "version": 3
   },
   "file_extension": ".py",
   "mimetype": "text/x-python",
   "name": "python",
   "nbconvert_exporter": "python",
   "pygments_lexer": "ipython3",
   "version": "3.8.1"
  }
 },
 "nbformat": 4,
 "nbformat_minor": 4
}
