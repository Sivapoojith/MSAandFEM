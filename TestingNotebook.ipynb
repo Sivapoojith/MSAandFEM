{
 "cells": [
  {
   "cell_type": "code",
   "execution_count": 1,
   "metadata": {},
   "outputs": [],
   "source": [
    "import numpy as np"
   ]
  },
  {
   "cell_type": "code",
   "execution_count": 2,
   "metadata": {},
   "outputs": [],
   "source": [
    "ien = np.array([[0, 1], [0, 2], [1, 2], [1, 3], [2, 3]])\n",
    "coords = np.array([[0, 0], [4000, 0], [4000, 3000], [8000, 3000]], dtype=np.float32)\n",
    "prop = np.array([[200000., 100.], [200000., 200.], [200000., 100.], [200000., 200.], [200000., 100.]])\n",
    "P = np.array(['unk', 'unk', 0., 0., 0., -9000., 'unk', 'unk'])  # force vector\n",
    "u = np.array([-4., 0., 'unk', 'unk', 'unk', 'unk', 0., 0.]) # displacement vector"
   ]
  },
  {
   "cell_type": "code",
   "execution_count": 3,
   "metadata": {},
   "outputs": [],
   "source": [
    "from msa import MSA_truss"
   ]
  },
  {
   "cell_type": "code",
   "execution_count": 4,
   "metadata": {},
   "outputs": [],
   "source": [
    "mymsa = MSA_truss(coords, ien, prop, u, P)"
   ]
  },
  {
   "cell_type": "code",
   "execution_count": null,
   "metadata": {},
   "outputs": [],
   "source": [
    "mymsa.KG()"
   ]
  },
  {
   "cell_type": "code",
   "execution_count": 5,
   "metadata": {},
   "outputs": [
    {
     "data": {
      "text/plain": [
       "(array([-1.0871432 , -2.3432581 , -0.51285714, -3.9817405 ], dtype=float32),\n",
       " array([-17128.57  ,  -1923.2158,  17128.57  ,  10923.214 ], dtype=float32))"
      ]
     },
     "execution_count": 5,
     "metadata": {},
     "output_type": "execute_result"
    }
   ],
   "source": [
    "mymsa.solve()"
   ]
  },
  {
   "cell_type": "markdown",
   "metadata": {},
   "source": [
    "$$ \\begin{bmatrix} 0 && 0  \\\\ 4 && 0 \\\\ 4 && 3 \\\\ 8 && 3 \\end{bmatrix}  $$"
   ]
  },
  {
   "cell_type": "code",
   "execution_count": null,
   "metadata": {},
   "outputs": [],
   "source": []
  }
 ],
 "metadata": {
  "kernelspec": {
   "display_name": "MSA",
   "language": "python",
   "name": "msa"
  },
  "language_info": {
   "codemirror_mode": {
    "name": "ipython",
    "version": 3
   },
   "file_extension": ".py",
   "mimetype": "text/x-python",
   "name": "python",
   "nbconvert_exporter": "python",
   "pygments_lexer": "ipython3",
   "version": "3.7.4"
  }
 },
 "nbformat": 4,
 "nbformat_minor": 4
}
