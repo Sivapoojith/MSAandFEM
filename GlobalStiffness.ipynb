{
 "cells": [
  {
   "cell_type": "markdown",
   "metadata": {},
   "source": [
    "# Global Stiffness\n",
    "\n",
    "The goal is to develop code that will perform a robust truss analysis based on global stiffness methods from matrix structural analysis to allow the solution method to generalize."
   ]
  },
  {
   "cell_type": "code",
   "execution_count": 2,
   "metadata": {},
   "outputs": [],
   "source": [
    "import numpy as np\n",
    "import matplotlib.pyplot as plt\n",
    "import matplotlib.image as mpimg"
   ]
  },
  {
   "cell_type": "code",
   "execution_count": null,
   "metadata": {},
   "outputs": [],
   "source": [
    "img_path = 'truss1.png'"
   ]
  },
  {
   "cell_type": "code",
   "execution_count": null,
   "metadata": {},
   "outputs": [],
   "source": [
    "img = mpimg.imread(img_path, 0)"
   ]
  },
  {
   "cell_type": "code",
   "execution_count": null,
   "metadata": {},
   "outputs": [],
   "source": [
    "plt.imshow(img)"
   ]
  },
  {
   "cell_type": "markdown",
   "metadata": {},
   "source": [
    "Consider the truss shown above to test implementation of the solution. For all elements, E = 200,000 MPa.\n",
    "\n",
    "Note that the truss has both applied loads and a specified nonzero displacement at a joint.\n",
    "\n",
    "For any given structure, the size of the global stiffness matrix will be governed by the degrees of freedom. In general, without regard to fixed joints with zero DOF, the global stiffness matrix will have two degrees of freedom per joint/node, so the truss shown will have an 8x8 global stiffness matrix. \n",
    "\n",
    "The full matrix equation for the structure would be:\n",
    "\n",
    "$$ [F^G]_{8x1} = [K^G]_{8x8} [d^G]_{8x1} $$\n",
    "\n",
    "where is the vector of forces, and d is the vector of displacements.\n",
    "\n",
    "We want to adjust Ke_truss so that it computes an element's length and orientation based on it being passed nodal coordinates in the form (x1, y1), (x2, y2)"
   ]
  },
  {
   "cell_type": "code",
   "execution_count": null,
   "metadata": {},
   "outputs": [],
   "source": [
    "def Ke_truss_single(coords, prop):\n",
    "    ''' Generate the truss element stiffness matrix.\n",
    "    Inputs\n",
    "    ------\n",
    "    \n",
    "    xe: list of component-lengths for truss element. For example, a 5m member inclined at 32.9 deg will have\n",
    "    xe elements of 4m and 3m. The same member inclined at zero degrees will have 5m and 0m.\n",
    "    prop: list of properties [Young's modulus, cross-sectional area]\n",
    "    '''\n",
    "    L = np.linalg.norm(coords)\n",
    "    nx = (coords[1, 0] - coords[0, 0]) / L\n",
    "    ny = (coords[1, 1] - coords[0, 1]) / L\n",
    "    T = np.zeros((2, 4), dtype=np.float32)\n",
    "    T[0, :2] = [nx, ny]\n",
    "    T[1, 2:] = [nx, ny]\n",
    "    E, A = prop[0], prop[1]\n",
    "    \n",
    "    # Local stiffness matrix\n",
    "    k = np.array([[1., -1.], [1., -1.]])\n",
    "    k *= E*A/L\n",
    "    \n",
    "    # Global element stiffness matrix\n",
    "    Ke = T.T @ k @ T\n",
    "    \n",
    "    return Ke"
   ]
  },
  {
   "cell_type": "markdown",
   "metadata": {},
   "source": [
    "Let's test Ke_truss operating on a single element by passing it the node coordinates and the properties."
   ]
  },
  {
   "cell_type": "code",
   "execution_count": null,
   "metadata": {},
   "outputs": [],
   "source": [
    "coords = np.array([[0., 0.], [4000., 0.]])\n",
    "prop = [200000., 100.]"
   ]
  },
  {
   "cell_type": "code",
   "execution_count": null,
   "metadata": {},
   "outputs": [],
   "source": [
    "Ke_truss_single(coords, prop)"
   ]
  },
  {
   "cell_type": "markdown",
   "metadata": {},
   "source": [
    "This produces the expected results. What we now want is to be able to pass the function the entire set of coordinates, along with the nodes that define the element, using an index of element nodes (ied). This will allow us to loop through the nodes and develop all global element stiffniss matrices at once."
   ]
  },
  {
   "cell_type": "code",
   "execution_count": null,
   "metadata": {},
   "outputs": [],
   "source": [
    "def Ke_truss(coords, prop, ien, elem_idx):\n",
    "    ''' Generate the truss element stiffness matrix.\n",
    "    Inputs\n",
    "    ------\n",
    "    \n",
    "    xe: list of component-lengths for truss element. For example, a 5m member inclined at 32.9 deg will have\n",
    "    xe elements of 4m and 3m. The same member inclined at zero degrees will have 5m and 0m.\n",
    "    prop: list of properties [Young's modulus, cross-sectional area]\n",
    "    '''\n",
    "    # elem_idx -= 1 # adjusting for element numberings that begin with 1\n",
    "    nx = (coords[ien[elem_idx, 1], 0] - coords[ien[elem_idx, 0], 0])\n",
    "    ny = (coords[ien[elem_idx, 1], 1] - coords[ien[elem_idx, 0], 1])\n",
    "    #print(nx, ny)\n",
    "    L = np.linalg.norm([nx, ny])\n",
    "    #print(L)\n",
    "    T = np.zeros((2, 4), dtype=np.float32)\n",
    "    T[0, :2] = [nx, ny] / L\n",
    "    T[1, 2:] = [nx, ny] / L\n",
    "    #print(T)\n",
    "    E = prop[elem_idx, 0]\n",
    "    A = prop[elem_idx, 1]\n",
    "    \n",
    "    # Local stiffness matrix\n",
    "    k = np.array([[1., -1.], [-1., 1.]])\n",
    "    k *= E*A/L\n",
    "    \n",
    "    # Global element stiffness matrix\n",
    "    Ke = T.T @ k @ T\n",
    "    \n",
    "    return Ke"
   ]
  },
  {
   "cell_type": "markdown",
   "metadata": {},
   "source": [
    "Let's now develop the entire coordinate matrix, and the entire ien matrix, and pass the function the element nodes associated with the member from the previous section to test the results."
   ]
  },
  {
   "cell_type": "code",
   "execution_count": 3,
   "metadata": {},
   "outputs": [],
   "source": [
    "coords = np.array([[0, 0], [4000, 0], [4000, 3000], [8000, 3000]], dtype=np.float32)"
   ]
  },
  {
   "cell_type": "code",
   "execution_count": 4,
   "metadata": {},
   "outputs": [
    {
     "data": {
      "text/plain": [
       "array([[   0.,    0.],\n",
       "       [4000.,    0.],\n",
       "       [4000., 3000.],\n",
       "       [8000., 3000.]], dtype=float32)"
      ]
     },
     "execution_count": 4,
     "metadata": {},
     "output_type": "execute_result"
    }
   ],
   "source": [
    "coords"
   ]
  },
  {
   "cell_type": "code",
   "execution_count": 5,
   "metadata": {},
   "outputs": [],
   "source": [
    "ien = np.array([[0, 1], [0, 2], [1, 2], [1, 3], [2, 3]])"
   ]
  },
  {
   "cell_type": "code",
   "execution_count": 6,
   "metadata": {},
   "outputs": [
    {
     "data": {
      "text/plain": [
       "array([[0, 1],\n",
       "       [0, 2],\n",
       "       [1, 2],\n",
       "       [1, 3],\n",
       "       [2, 3]])"
      ]
     },
     "execution_count": 6,
     "metadata": {},
     "output_type": "execute_result"
    }
   ],
   "source": [
    "ien"
   ]
  },
  {
   "cell_type": "code",
   "execution_count": 7,
   "metadata": {},
   "outputs": [
    {
     "ename": "NameError",
     "evalue": "name 'Ke_truss' is not defined",
     "output_type": "error",
     "traceback": [
      "\u001b[0;31m---------------------------------------------------------------------------\u001b[0m",
      "\u001b[0;31mNameError\u001b[0m                                 Traceback (most recent call last)",
      "\u001b[0;32m<ipython-input-7-16c7c48b57ee>\u001b[0m in \u001b[0;36m<module>\u001b[0;34m\u001b[0m\n\u001b[0;32m----> 1\u001b[0;31m \u001b[0mKe_truss\u001b[0m\u001b[0;34m(\u001b[0m\u001b[0mcoords\u001b[0m\u001b[0;34m,\u001b[0m \u001b[0mprop\u001b[0m\u001b[0;34m,\u001b[0m \u001b[0mien\u001b[0m\u001b[0;34m,\u001b[0m \u001b[0melem_idx\u001b[0m\u001b[0;34m=\u001b[0m\u001b[0;36m0\u001b[0m\u001b[0;34m)\u001b[0m\u001b[0;34m\u001b[0m\u001b[0;34m\u001b[0m\u001b[0m\n\u001b[0m",
      "\u001b[0;31mNameError\u001b[0m: name 'Ke_truss' is not defined"
     ]
    }
   ],
   "source": [
    "Ke_truss(coords, prop, ien, elem_idx=0)"
   ]
  },
  {
   "cell_type": "markdown",
   "metadata": {},
   "source": [
    "Now, we shold be able to collect all global stiffness matrices via a for loop."
   ]
  },
  {
   "cell_type": "code",
   "execution_count": 8,
   "metadata": {},
   "outputs": [],
   "source": [
    "prop = np.array([[200000., 100.], [200000., 200.], [200000., 100.], [200000., 200.], [200000., 100.]])"
   ]
  },
  {
   "cell_type": "code",
   "execution_count": 9,
   "metadata": {},
   "outputs": [
    {
     "data": {
      "text/plain": [
       "array([[2.e+05, 1.e+02],\n",
       "       [2.e+05, 2.e+02],\n",
       "       [2.e+05, 1.e+02],\n",
       "       [2.e+05, 2.e+02],\n",
       "       [2.e+05, 1.e+02]])"
      ]
     },
     "execution_count": 9,
     "metadata": {},
     "output_type": "execute_result"
    }
   ],
   "source": [
    "prop"
   ]
  },
  {
   "cell_type": "code",
   "execution_count": null,
   "metadata": {},
   "outputs": [],
   "source": [
    "Ke = []\n",
    "for i in range(len(ien)):\n",
    "    K = Ke_truss(coords, prop, ien, i)\n",
    "    Ke.append(K)"
   ]
  },
  {
   "cell_type": "code",
   "execution_count": null,
   "metadata": {},
   "outputs": [],
   "source": [
    "Ke"
   ]
  },
  {
   "cell_type": "markdown",
   "metadata": {},
   "source": [
    "These results are as expected. We now want to assemble the global stiffness matrix, and for that we will need the degrees of freedom for the system. A simple way to do this is to create a matrix holding the degrees of freedom for each element. Let's call this the index of element DOF, ied. We should make up a nodal DOF matrix to construct the ien from."
   ]
  },
  {
   "cell_type": "code",
   "execution_count": null,
   "metadata": {},
   "outputs": [],
   "source": [
    "n_nodes = 4\n",
    "ind = np.zeros((n_nodes, 2))\n",
    "for i in range(n_nodes):\n",
    "    ind[i, 0] = i * 2\n",
    "    ind[i, 1] = i * 2 + 1"
   ]
  },
  {
   "cell_type": "code",
   "execution_count": null,
   "metadata": {},
   "outputs": [],
   "source": [
    "ind"
   ]
  },
  {
   "cell_type": "code",
   "execution_count": 10,
   "metadata": {},
   "outputs": [],
   "source": [
    "ied = np.zeros((len(ien), 2, 2), dtype=np.int8)"
   ]
  },
  {
   "cell_type": "code",
   "execution_count": null,
   "metadata": {},
   "outputs": [],
   "source": [
    "for i in range(len(ien)):\n",
    "    ied[i, 0] = ind[ien[i, 0]]\n",
    "    ied[i, 1] = ind[ien[i, 1]]"
   ]
  },
  {
   "cell_type": "code",
   "execution_count": null,
   "metadata": {},
   "outputs": [],
   "source": [
    "ied"
   ]
  },
  {
   "cell_type": "markdown",
   "metadata": {},
   "source": [
    "This code should now be compiled in a function that creates the index of element degrees of freedom, which will then be used to create the global stiffness matrix by assembling the global element stiffness matrices.\n",
    "\n",
    "The method attemped will be to iterate over a Ke matrix, sending each entry to the /location indicated in ied."
   ]
  },
  {
   "cell_type": "code",
   "execution_count": null,
   "metadata": {},
   "outputs": [],
   "source": [
    "KG = np.zeros((n_nodes * 2, n_nodes * 2))"
   ]
  },
  {
   "cell_type": "code",
   "execution_count": null,
   "metadata": {},
   "outputs": [],
   "source": [
    "n_elements = 1\n",
    "for element in range(n_elements):\n",
    "    for row in range(4):\n",
    "        for col in range(4):\n",
    "            idx = ied[element].flatten()\n",
    "            KG[idx[row], idx[col]] += Ke[element][row, col]"
   ]
  },
  {
   "cell_type": "code",
   "execution_count": null,
   "metadata": {},
   "outputs": [],
   "source": [
    "KG"
   ]
  },
  {
   "cell_type": "markdown",
   "metadata": {},
   "source": [
    "It appears to have worked for the first element. Let's iterate over all elements and see what the results are:"
   ]
  },
  {
   "cell_type": "code",
   "execution_count": null,
   "metadata": {},
   "outputs": [],
   "source": [
    "KG = np.zeros((n_nodes * 2, n_nodes * 2))\n",
    "n_elements = 5\n",
    "for element in range(n_elements):\n",
    "    for row in range(4):\n",
    "        for col in range(4):\n",
    "            idx = ied[element].flatten()\n",
    "            KG[idx[row], idx[col]] += Ke[element][row, col]"
   ]
  },
  {
   "cell_type": "code",
   "execution_count": null,
   "metadata": {},
   "outputs": [],
   "source": [
    "KG"
   ]
  },
  {
   "cell_type": "code",
   "execution_count": null,
   "metadata": {},
   "outputs": [],
   "source": [
    "len(Ke)"
   ]
  },
  {
   "cell_type": "code",
   "execution_count": null,
   "metadata": {},
   "outputs": [],
   "source": [
    "def KG_truss(Ke, n_nodes, ien):\n",
    "    ''' Assemble the global stiffness matrix from a tensor of the element stiffness matrices.\n",
    "    For this 2D code, each element is associated with 2 nodes at each end. The tensor of \n",
    "    element stiffness matrices is of shape (num_elements, dof, dof) where dof is the number\n",
    "    of degrees of freedom per element (4 in this case).\n",
    "    '''\n",
    "    n_elements = len(Ke)\n",
    "    # develop a matrix of indices of node degrees of freedom\n",
    "    ind = np.zeros((n_nodes, 2), dtype=np.int8)\n",
    "    for i in range(n_nodes):\n",
    "        ind[i, 0] = i * 2\n",
    "        ind[i, 1] = i * 2 + 1\n",
    "        \n",
    "    # develop a matrix of indices of element degrees of freedom by iterating over the \n",
    "    # indices of node DOF. This maps the DOF associated with each node to each element.\n",
    "    # Each entry along axis 0 is an element\n",
    "    ied = np.zeros((len(ien), 2, 2), dtype=np.int8)\n",
    "    for i in range(len(ien)):\n",
    "        ied[i, 0] = ind[ien[i, 0]]\n",
    "        ied[i, 1] = ind[ien[i, 1]]\n",
    "        \n",
    "    KG = np.zeros((n_nodes * 2, n_nodes * 2))\n",
    "    # assigning the entries of Ke to the locations in KG corresponding to the DOF at each\n",
    "    # node in the element.\n",
    "    for element in range(n_elements):\n",
    "        for row in range(4):\n",
    "            for col in range(4):\n",
    "                idx = ied[element].flatten()\n",
    "                KG[idx[row], idx[col]] += Ke[element][row, col]\n",
    "    return KG"
   ]
  },
  {
   "cell_type": "code",
   "execution_count": null,
   "metadata": {},
   "outputs": [],
   "source": [
    "KG_truss(Ke, 4, ien)"
   ]
  },
  {
   "cell_type": "markdown",
   "metadata": {},
   "source": [
    "These results are good. We now want to partition the matrix based on what is known and what is unknown. In this case, we know 4 displacements and one force. Perhaps a displacement list of known values and unknown values will help partitioning:"
   ]
  },
  {
   "cell_type": "code",
   "execution_count": null,
   "metadata": {},
   "outputs": [],
   "source": [
    "u = np.array([-4., 0., 'unk', 'unk', 'unk', 'unk', 0., 0.]) # displacement vector"
   ]
  },
  {
   "cell_type": "code",
   "execution_count": null,
   "metadata": {},
   "outputs": [],
   "source": [
    "P = np.array(['unk', 'unk', 0, 0, 0, -9000, 'unk', 'unk'])  # force vector"
   ]
  },
  {
   "cell_type": "code",
   "execution_count": null,
   "metadata": {},
   "outputs": [],
   "source": [
    "uP = np.concatenate((u, P), axis=0)\n",
    "uP.shape"
   ]
  },
  {
   "cell_type": "code",
   "execution_count": null,
   "metadata": {},
   "outputs": [],
   "source": [
    "for i in range(uP.shape[1]):\n",
    "    if uP[1, i] == 'unk':\n",
    "        for j in range(uP.shape[1] - 1, i, -1):\n",
    "            if uP[1, j] != 'unk':\n",
    "                uP[:, i], uP[:, j] = uP[:, j], uP[:, i]\n",
    "                print(\"Swapped! i: {}, j: {}\".format(i, j))\n",
    "                break"
   ]
  },
  {
   "cell_type": "markdown",
   "metadata": {},
   "source": [
    "The above sorting algorithm properly exchanges list entries such that the unknown values are moved to the bottom. Perhaps by concatenating the force vector, displacement vector, and global stiffness matrix, the rows can be rearranged based on sorting the displacement list for partitioning. \n",
    "\n",
    "Matrix needs to be partitioned such that the natural boundary conditions are on top, that is those boundary conditions with known applied loads but unknown displacements. The essential boundary conditions, those with unknown loads (reaction forces) but known displacements, are moved to the bottom.\n",
    "\n",
    "We could potentially also track the indices where there are known forces, and swap that way as well."
   ]
  },
  {
   "cell_type": "code",
   "execution_count": null,
   "metadata": {},
   "outputs": [],
   "source": [
    "Pmask = P != 'unk'"
   ]
  },
  {
   "cell_type": "code",
   "execution_count": null,
   "metadata": {},
   "outputs": [],
   "source": [
    "Pmask"
   ]
  },
  {
   "cell_type": "code",
   "execution_count": null,
   "metadata": {},
   "outputs": [],
   "source": [
    "np.where(P!='unk')"
   ]
  },
  {
   "cell_type": "code",
   "execution_count": null,
   "metadata": {},
   "outputs": [],
   "source": [
    "U_idx = np.where(P!='unk')\n",
    "S_idx = np.where(P=='unk')"
   ]
  },
  {
   "cell_type": "code",
   "execution_count": null,
   "metadata": {},
   "outputs": [],
   "source": [
    "np.concatenate((P[U_idx], P[S_idx]))"
   ]
  },
  {
   "cell_type": "code",
   "execution_count": null,
   "metadata": {},
   "outputs": [],
   "source": [
    "P[S_idx].shape"
   ]
  },
  {
   "cell_type": "code",
   "execution_count": null,
   "metadata": {},
   "outputs": [],
   "source": [
    "K_test = np.arange(16).reshape((4,4))"
   ]
  },
  {
   "cell_type": "code",
   "execution_count": null,
   "metadata": {},
   "outputs": [],
   "source": [
    "test_idx = np.array([3, 0, 2, 1])"
   ]
  },
  {
   "cell_type": "code",
   "execution_count": null,
   "metadata": {},
   "outputs": [],
   "source": [
    "K_test"
   ]
  },
  {
   "cell_type": "code",
   "execution_count": null,
   "metadata": {},
   "outputs": [],
   "source": [
    "K_test[test_idx]"
   ]
  },
  {
   "cell_type": "markdown",
   "metadata": {},
   "source": [
    "This appears to be a better way to partition the global stiffness matrix and force/displacement vectors. From there, the active stiffness equation can be solved to yield the unknown displacements:\n",
    "\n",
    "$$\\begin{bmatrix} P_U  \\\\ R_S \\end{bmatrix} = \\begin{bmatrix} K_{UU} & K_{US}  \\\\ K_{SU} & K_{SS} \\end{bmatrix} \\ \n",
    "\\begin{bmatrix} d_U  \\\\ d_S \\end{bmatrix}$$\n",
    "\n",
    "$$ P_U = [K_{UU}]d_U + [K_{US}]d_S $$"
   ]
  },
  {
   "cell_type": "markdown",
   "metadata": {},
   "source": [
    "I think simply using the indices on a matrix will pick out particular rows and columns. Partitioning K_test above by taking rows and columns 0 and 1:"
   ]
  },
  {
   "cell_type": "code",
   "execution_count": null,
   "metadata": {},
   "outputs": [],
   "source": [
    "test_idx = np.array([0, 1])"
   ]
  },
  {
   "cell_type": "code",
   "execution_count": null,
   "metadata": {},
   "outputs": [],
   "source": [
    "K_test[np.ix_(test_idx,test_idx)]"
   ]
  },
  {
   "cell_type": "code",
   "execution_count": null,
   "metadata": {},
   "outputs": [],
   "source": [
    "def partition(KG, P, u):\n",
    "    ''' Partition the stiffness matrix based on the DOF locations of the known forces. \n",
    "    Degrees of freedom containing unknown forces or displacements should contain the string \"unk\"\n",
    "    '''\n",
    "    # Indices for natural and essential boundary conditions, respectively.\n",
    "    U_idx = P != 'unk'\n",
    "    S_idx = P == 'unk'\n",
    "    \n",
    "    Pu = P[U_idx]\n",
    "    du = u[U_idx]\n",
    "    ds = u[S_idx]\n",
    "    Kuu = KG[np.ix_(U_idx, U_idx)]\n",
    "    Kus = KG[np.ix_(U_idx, S_idx)]\n",
    "    Ksu = KG[np.ix_(S_idx, U_idx)]\n",
    "    Kss = KG[np.ix_(S_idx, S_idx)]\n",
    "    \n",
    "    return Pu.astype(np.float32), ds.astype(np.float32), Kuu, Kus, Ksu, Kss"
   ]
  },
  {
   "cell_type": "code",
   "execution_count": null,
   "metadata": {},
   "outputs": [],
   "source": [
    "Pu, ds, Kuu, Kus, Ksu, Kss = partition(KG, P, u)"
   ]
  },
  {
   "cell_type": "code",
   "execution_count": null,
   "metadata": {},
   "outputs": [],
   "source": [
    "ds"
   ]
  },
  {
   "cell_type": "code",
   "execution_count": null,
   "metadata": {},
   "outputs": [],
   "source": [
    "partition(KG, P, u)"
   ]
  },
  {
   "cell_type": "code",
   "execution_count": null,
   "metadata": {},
   "outputs": [],
   "source": [
    "def solve_du(Kuu, Pu, Kus, ds):\n",
    "    return np.linalg.inv(Kuu) @ (Pu - Kus @ ds)"
   ]
  },
  {
   "cell_type": "code",
   "execution_count": null,
   "metadata": {},
   "outputs": [],
   "source": [
    "du = solve_du(Kuu, Pu, Kus, ds)"
   ]
  },
  {
   "cell_type": "markdown",
   "metadata": {},
   "source": [
    "This is working correctly! So now, transfer the code into a .py script, and create a class to have methods perform all of the functionality above."
   ]
  },
  {
   "cell_type": "code",
   "execution_count": null,
   "metadata": {},
   "outputs": [],
   "source": [
    "def solve_Rs(Ksu, du, Kss, ds):\n",
    "    return Ksu @ du + Kss @ ds"
   ]
  },
  {
   "cell_type": "code",
   "execution_count": null,
   "metadata": {},
   "outputs": [],
   "source": [
    "du"
   ]
  },
  {
   "cell_type": "code",
   "execution_count": null,
   "metadata": {},
   "outputs": [],
   "source": [
    "solve_Rs(Ksu, du, Kss, ds)"
   ]
  },
  {
   "cell_type": "markdown",
   "metadata": {},
   "source": [
    "# Testing the MSA class from the script file MSA.py"
   ]
  },
  {
   "cell_type": "code",
   "execution_count": 21,
   "metadata": {},
   "outputs": [],
   "source": [
    "from msa import MSA_truss"
   ]
  },
  {
   "cell_type": "code",
   "execution_count": 22,
   "metadata": {},
   "outputs": [
    {
     "ename": "NameError",
     "evalue": "name 'n_nodes' is not defined",
     "output_type": "error",
     "traceback": [
      "\u001b[0;31m---------------------------------------------------------------------------\u001b[0m",
      "\u001b[0;31mNameError\u001b[0m                                 Traceback (most recent call last)",
      "\u001b[0;32m<ipython-input-22-7f7a9ba6f273>\u001b[0m in \u001b[0;36m<module>\u001b[0;34m\u001b[0m\n\u001b[0;32m----> 1\u001b[0;31m \u001b[0mmy_msa\u001b[0m \u001b[0;34m=\u001b[0m \u001b[0mMSA_truss\u001b[0m\u001b[0;34m(\u001b[0m\u001b[0mcoords\u001b[0m\u001b[0;34m,\u001b[0m \u001b[0mien\u001b[0m\u001b[0;34m,\u001b[0m \u001b[0mprop\u001b[0m\u001b[0;34m,\u001b[0m \u001b[0mu\u001b[0m\u001b[0;34m,\u001b[0m \u001b[0mP\u001b[0m\u001b[0;34m)\u001b[0m\u001b[0;34m\u001b[0m\u001b[0;34m\u001b[0m\u001b[0m\n\u001b[0m",
      "\u001b[0;32m~/Documents/MSAandFEM/msa.py\u001b[0m in \u001b[0;36m__init__\u001b[0;34m(self, coords, ien, props, u, P)\u001b[0m\n\u001b[1;32m     45\u001b[0m         \u001b[0mself\u001b[0m\u001b[0;34m.\u001b[0m\u001b[0mn_nodes\u001b[0m \u001b[0;34m=\u001b[0m \u001b[0mlen\u001b[0m\u001b[0;34m(\u001b[0m\u001b[0mself\u001b[0m\u001b[0;34m.\u001b[0m\u001b[0mcoords\u001b[0m\u001b[0;34m)\u001b[0m\u001b[0;34m\u001b[0m\u001b[0;34m\u001b[0m\u001b[0m\n\u001b[1;32m     46\u001b[0m         \u001b[0mself\u001b[0m\u001b[0;34m.\u001b[0m\u001b[0mn_elements\u001b[0m \u001b[0;34m=\u001b[0m \u001b[0mlen\u001b[0m\u001b[0;34m(\u001b[0m\u001b[0mself\u001b[0m\u001b[0;34m.\u001b[0m\u001b[0mien\u001b[0m\u001b[0;34m)\u001b[0m\u001b[0;34m\u001b[0m\u001b[0;34m\u001b[0m\u001b[0m\n\u001b[0;32m---> 47\u001b[0;31m         \u001b[0mself\u001b[0m\u001b[0;34m.\u001b[0m\u001b[0mind\u001b[0m \u001b[0;34m=\u001b[0m \u001b[0mnp\u001b[0m\u001b[0;34m.\u001b[0m\u001b[0mzeros\u001b[0m\u001b[0;34m(\u001b[0m\u001b[0;34m(\u001b[0m\u001b[0mself\u001b[0m\u001b[0;34m.\u001b[0m\u001b[0mn_nodes\u001b[0m\u001b[0;34m,\u001b[0m \u001b[0;36m2\u001b[0m\u001b[0;34m)\u001b[0m\u001b[0;34m,\u001b[0m \u001b[0mdtype\u001b[0m\u001b[0;34m=\u001b[0m\u001b[0mnp\u001b[0m\u001b[0;34m.\u001b[0m\u001b[0mint8\u001b[0m\u001b[0;34m)\u001b[0m\u001b[0;34m\u001b[0m\u001b[0;34m\u001b[0m\u001b[0m\n\u001b[0m\u001b[1;32m     48\u001b[0m         \u001b[0mself\u001b[0m\u001b[0;34m.\u001b[0m\u001b[0mied\u001b[0m \u001b[0;34m=\u001b[0m \u001b[0mnp\u001b[0m\u001b[0;34m.\u001b[0m\u001b[0mzeros\u001b[0m\u001b[0;34m(\u001b[0m\u001b[0;34m(\u001b[0m\u001b[0mself\u001b[0m\u001b[0;34m.\u001b[0m\u001b[0mn_elements\u001b[0m\u001b[0;34m,\u001b[0m \u001b[0;36m2\u001b[0m\u001b[0;34m,\u001b[0m \u001b[0;36m2\u001b[0m\u001b[0;34m)\u001b[0m\u001b[0;34m,\u001b[0m \u001b[0mdtype\u001b[0m\u001b[0;34m=\u001b[0m\u001b[0mnp\u001b[0m\u001b[0;34m.\u001b[0m\u001b[0mint8\u001b[0m\u001b[0;34m)\u001b[0m\u001b[0;34m\u001b[0m\u001b[0;34m\u001b[0m\u001b[0m\n\u001b[1;32m     49\u001b[0m     \u001b[0;31m# Create indices for the degrees of freedom, two per node\u001b[0m\u001b[0;34m\u001b[0m\u001b[0;34m\u001b[0m\u001b[0;34m\u001b[0m\u001b[0m\n",
      "\u001b[0;31mNameError\u001b[0m: name 'n_nodes' is not defined"
     ]
    }
   ],
   "source": [
    "my_msa = MSA_truss(coords, ien, prop, u, P)"
   ]
  },
  {
   "cell_type": "code",
   "execution_count": 16,
   "metadata": {},
   "outputs": [],
   "source": [
    "u = np.array([-4., 0., 'unk', 'unk', 'unk', 'unk', 0., 0.])"
   ]
  },
  {
   "cell_type": "code",
   "execution_count": 12,
   "metadata": {},
   "outputs": [
    {
     "data": {
      "text/plain": [
       "array([[0, 1],\n",
       "       [0, 2],\n",
       "       [1, 2],\n",
       "       [1, 3],\n",
       "       [2, 3]])"
      ]
     },
     "execution_count": 12,
     "metadata": {},
     "output_type": "execute_result"
    }
   ],
   "source": [
    "ien"
   ]
  },
  {
   "cell_type": "code",
   "execution_count": 13,
   "metadata": {},
   "outputs": [],
   "source": [
    "P = np.array(['unk', 'unk', 0., 0., 0., -9000., 'unk', 'unk'])  # force vector"
   ]
  },
  {
   "cell_type": "code",
   "execution_count": 17,
   "metadata": {},
   "outputs": [],
   "source": [
    "idx = P != 'unk'"
   ]
  },
  {
   "cell_type": "code",
   "execution_count": 18,
   "metadata": {},
   "outputs": [
    {
     "data": {
      "text/plain": [
       "array([False, False,  True,  True,  True,  True, False, False])"
      ]
     },
     "execution_count": 18,
     "metadata": {},
     "output_type": "execute_result"
    }
   ],
   "source": [
    "idx"
   ]
  },
  {
   "cell_type": "code",
   "execution_count": 20,
   "metadata": {},
   "outputs": [
    {
     "data": {
      "text/plain": [
       "array([    0.,     0.,     0., -9000.], dtype=float32)"
      ]
     },
     "execution_count": 20,
     "metadata": {},
     "output_type": "execute_result"
    }
   ],
   "source": [
    "P[idx].astype(np.float32)"
   ]
  },
  {
   "cell_type": "code",
   "execution_count": 23,
   "metadata": {},
   "outputs": [],
   "source": [
    "prop = np.array([[200000., 100.], [200000., 200.], [200000., 100.], [200000., 200.], [200000., 100.]])"
   ]
  },
  {
   "cell_type": "code",
   "execution_count": 24,
   "metadata": {},
   "outputs": [],
   "source": [
    "coords = np.array([[0, 0], [4000, 0], [4000, 3000], [8000, 3000]], dtype=np.float32)"
   ]
  },
  {
   "cell_type": "code",
   "execution_count": 25,
   "metadata": {},
   "outputs": [],
   "source": [
    "ien = np.array([[0, 1], [0, 2], [1, 2], [1, 3], [2, 3]])"
   ]
  },
  {
   "cell_type": "code",
   "execution_count": null,
   "metadata": {},
   "outputs": [],
   "source": []
  }
 ],
 "metadata": {
  "kernelspec": {
   "display_name": "MSA",
   "language": "python",
   "name": "msa"
  },
  "language_info": {
   "codemirror_mode": {
    "name": "ipython",
    "version": 3
   },
   "file_extension": ".py",
   "mimetype": "text/x-python",
   "name": "python",
   "nbconvert_exporter": "python",
   "pygments_lexer": "ipython3",
   "version": "3.7.4"
  }
 },
 "nbformat": 4,
 "nbformat_minor": 4
}
